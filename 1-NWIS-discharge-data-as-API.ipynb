{
 "cells": [
  {
   "cell_type": "markdown",
   "metadata": {},
   "source": [
    "# Accessing the NWIS Discharge data  - as an API\n",
    "In the last session, we used `urllib` and `pandas` to retrieve data from a static URL. Here we refine that procedure to again retrieve water flow data from the NWIS website. What's different this time, however, is that we examine the URL as a web service, dissecting it into its components (web service address and web service parameters). We also switch to using the Python `requests` package to handle the interaction, as it's slightly more user friendly than the `urllib` package. "
   ]
  },
  {
   "cell_type": "markdown",
   "metadata": {},
   "source": [
    "The URL listing current discharge conditions in the Eno near Durham gage site is here: \n",
    "```html\n",
    "http://waterdata.usgs.gov/nwis/uv?cb_00060=on&cb_00065=on&format=rdb&site_no=02085070&period=1&begin_date=&end_date=\n",
    "```"
   ]
  },
  {
   "cell_type": "markdown",
   "metadata": {},
   "source": [
    "As you'll see in the example below, the `requests` package constructs a web service request with two parameters. The first is the full service address (`http://waterdata.usgs.gov/nwis/uv`), which is followed by the set of service parameters, passed as a Python dictionary."
   ]
  },
  {
   "cell_type": "code",
   "execution_count": 3,
   "metadata": {},
   "outputs": [],
   "source": [
    "#import packages\n",
    "import requests"
   ]
  },
  {
   "cell_type": "code",
   "execution_count": 4,
   "metadata": {},
   "outputs": [],
   "source": [
    "#dissect the URL into it's components, for easy comprehension -- and easy modification\n",
    "serviceURL = 'http://waterdata.usgs.gov/nwis/uv'\n",
    "parameters = {'cb_00060':'on',\n",
    "              'cb_00065':'on',\n",
    "              'format':'rdb',\n",
    "              'period':'1',\n",
    "              'site_no':'02085070',\n",
    "              'begin_date':'',\n",
    "              'end_date':''\n",
    "             }"
   ]
  },
  {
   "cell_type": "markdown",
   "metadata": {},
   "source": [
    "Ok, here we send the request, storing the response in a variable called `response`. The second line extacts the response as raw text into the variable `responseText`."
   ]
  },
  {
   "cell_type": "code",
   "execution_count": 5,
   "metadata": {},
   "outputs": [],
   "source": [
    "#Pass the url and its parameters to the server and get its response\n",
    "response = requests.get(serviceURL, parameters)\n",
    "responseText = response.text"
   ]
  },
  {
   "cell_type": "code",
   "execution_count": 6,
   "metadata": {
    "scrolled": true
   },
   "outputs": [
    {
     "name": "stdout",
     "output_type": "stream",
     "text": [
      "# ---------------------------------- WARNING ----------------------------------------\n",
      "# Some of the data that you have obtained from this U.S. Geological Survey database\n",
      "# may not have received Director's approval. Any such data values are qualified\n",
      "# as provisional and are subject to revision. Provisional data are released on the\n",
      "# condition that neither the USGS nor the United States Government may be held liable\n",
      "# for any damages resulting from its use.\n",
      "#\n",
      "# Additional info: https://help.waterdata.usgs.gov/policies/provisional-data-statement\n",
      "#\n",
      "# File-format description:  https://help.waterdata.usgs.gov/faq/about-tab-delimited-output\n",
      "# Automated-retrieval info: https://help.waterdata.usgs.gov/faq/automated-retrievals\n",
      "#\n",
      "# Contact:   gs-w_support_nwisweb@usgs.gov\n",
      "# retrieved: 2019-11-04 12:17:45 EST       (caww01)\n",
      "#\n",
      "# Data for the following 1 site(s) are contained in this file\n",
      "#    USGS 02085070 ENO RIVER NEAR DURHAM, NC\n",
      "# -----------------------------------------------------------------------------------\n",
      "#\n",
      "# Data provided for site 02085070\n",
      "#            TS   parameter     Description\n",
      "#         89062       00060     Discharge, cubic feet per second\n",
      "#         89063       00065     Gage height, feet\n",
      "#\n",
      "# Data-value qualification codes included in this output:\n",
      "#     P  Provisional data subject to revision.\n",
      "# \n",
      "agency_cd\tsite_no\tdatetime\ttz_cd\t89062_00060\t89062_00060_cd\t89063_00065\t89063_00065_cd\n",
      "5s\t15s\t20d\t6s\t14n\t10s\t14n\t10s\n",
      "USGS\t02085070\t2019-11-03 00:00\tEDT\t37.2\tP\t1.68\tP\n",
      "USGS\t02085070\t2019-11-03 00:15\tEDT\t36.4\tP\t1.67\tP\n",
      "USGS\t02085070\t2019-11-03 00:30\tEDT\t36.4\tP\t1.67\tP\n",
      "USGS\t02085070\t2019-11-03 00:45\tEDT\t36.4\tP\t1.67\tP\n",
      "USGS\t02085070\t2019-11-03 01:00\tEDT\t35.6\tP\t1.66\tP\n",
      "USGS\t02085070\t2019-11-03 01:00\tEST\t34.8\tP\t1.65\tP\n",
      "USGS\t02085070\t2019-11-03 01:15\tEDT\t35.6\tP\t1.66\tP\n",
      "USGS\t02085070\t2019-11-03 01:15\tEST\t34.0\tP\t1.64\tP\n",
      "USGS\t02085070\t2019-11-03 01:30\tEDT\t35.6\tP\t1.66\tP\n",
      "USGS\t02085070\t2019-11-03 01:30\tEST\t34.0\tP\t1.64\tP\n",
      "USGS\t02085070\t2019-11-03 01:45\tEDT\t34.8\tP\t1.65\tP\n",
      "USGS\t02085070\t2019-11-03 01:45\tEST\t34.0\tP\t1.64\tP\n",
      "USGS\t02085070\t2019-11-03 02:00\tEST\t33.3\tP\t1.63\tP\n",
      "USGS\t02085070\t2019-11-03 02:15\tEST\t33.3\tP\t1.63\tP\n",
      "USGS\t02085070\t2019-11-03 02:30\tEST\t33.3\tP\t1.63\tP\n",
      "USGS\t02085070\t2019-11-03 02:45\tEST\t32.5\tP\t1.62\tP\n",
      "USGS\t02085070\t2019-11-03 03:00\tEST\t32.5\tP\t1.62\tP\n",
      "USGS\t02085070\t2019-11-03 03:15\tEST\t31.8\tP\t1.61\tP\n",
      "USGS\t02085070\t2019-11-03 03:30\tEST\t31.8\tP\t1.61\tP\n",
      "USGS\t02085070\t2019-11-03 03:45\tEST\t31.8\tP\t1.61\tP\n",
      "USGS\t02085070\t2019-11-03 04:00\tEST\t31.1\tP\t1.60\tP\n",
      "USGS\t02085070\t2019-11-03 04:15\tEST\t31.1\tP\t1.60\tP\n",
      "USGS\t02085070\t2019-11-03 04:30\tEST\t31.1\tP\t1.60\tP\n",
      "USGS\t02085070\t2019-11-03 04:45\tEST\t30.4\tP\t1.59\tP\n",
      "USGS\t02085070\t2019-11-03 05:00\tEST\t30.4\tP\t1.59\tP\n",
      "USGS\t02085070\t2019-11-03 05:15\tEST\t30.4\tP\t1.59\tP\n",
      "USGS\t02085070\t2019-11-03 05:30\tEST\t30.4\tP\t1.59\tP\n",
      "USGS\t02085070\t2019-11-03 05:45\tEST\t30.4\tP\t1.59\tP\n",
      "USGS\t02085070\t2019-11-03 06:00\tEST\t29.7\tP\t1.58\tP\n",
      "USGS\t02085070\t2019-11-03 06:15\tEST\t29.7\tP\t1.58\tP\n",
      "USGS\t02085070\t2019-11-03 06:30\tEST\t29.7\tP\t1.58\tP\n",
      "USGS\t02085070\t2019-11-03 06:45\tEST\t29.0\tP\t1.57\tP\n",
      "USGS\t02085070\t2019-11-03 07:00\tEST\t29.0\tP\t1.57\tP\n",
      "USGS\t02085070\t2019-11-03 07:15\tEST\t29.0\tP\t1.57\tP\n",
      "USGS\t02085070\t2019-11-03 07:30\tEST\t29.0\tP\t1.57\tP\n",
      "USGS\t02085070\t2019-11-03 07:45\tEST\t28.3\tP\t1.56\tP\n",
      "USGS\t02085070\t2019-11-03 08:00\tEST\t28.3\tP\t1.56\tP\n",
      "USGS\t02085070\t2019-11-03 08:15\tEST\t28.3\tP\t1.56\tP\n",
      "USGS\t02085070\t2019-11-03 08:30\tEST\t28.3\tP\t1.56\tP\n",
      "USGS\t02085070\t2019-11-03 08:45\tEST\t27.7\tP\t1.55\tP\n",
      "USGS\t02085070\t2019-11-03 09:00\tEST\t27.7\tP\t1.55\tP\n",
      "USGS\t02085070\t2019-11-03 09:15\tEST\t27.7\tP\t1.55\tP\n",
      "USGS\t02085070\t2019-11-03 09:30\tEST\t27.7\tP\t1.55\tP\n",
      "USGS\t02085070\t2019-11-03 09:45\tEST\t27.1\tP\t1.54\tP\n",
      "USGS\t02085070\t2019-11-03 10:00\tEST\t27.1\tP\t1.54\tP\n",
      "USGS\t02085070\t2019-11-03 10:15\tEST\t27.1\tP\t1.54\tP\n",
      "USGS\t02085070\t2019-11-03 10:30\tEST\t27.1\tP\t1.54\tP\n",
      "USGS\t02085070\t2019-11-03 10:45\tEST\t27.1\tP\t1.54\tP\n",
      "USGS\t02085070\t2019-11-03 11:00\tEST\t27.1\tP\t1.54\tP\n",
      "USGS\t02085070\t2019-11-03 11:15\tEST\t26.4\tP\t1.53\tP\n",
      "USGS\t02085070\t2019-11-03 11:30\tEST\t26.4\tP\t1.53\tP\n",
      "USGS\t02085070\t2019-11-03 11:45\tEST\t26.4\tP\t1.53\tP\n",
      "USGS\t02085070\t2019-11-03 12:00\tEST\t26.4\tP\t1.53\tP\n",
      "USGS\t02085070\t2019-11-03 12:15\tEST\t26.4\tP\t1.53\tP\n",
      "USGS\t02085070\t2019-11-03 12:30\tEST\t26.4\tP\t1.53\tP\n",
      "USGS\t02085070\t2019-11-03 12:45\tEST\t25.8\tP\t1.52\tP\n",
      "USGS\t02085070\t2019-11-03 13:00\tEST\t25.8\tP\t1.52\tP\n",
      "USGS\t02085070\t2019-11-03 13:15\tEST\t25.2\tP\t1.51\tP\n",
      "USGS\t02085070\t2019-11-03 13:30\tEST\t25.2\tP\t1.51\tP\n",
      "USGS\t02085070\t2019-11-03 13:45\tEST\t25.2\tP\t1.51\tP\n",
      "USGS\t02085070\t2019-11-03 14:00\tEST\t25.2\tP\t1.51\tP\n",
      "USGS\t02085070\t2019-11-03 14:15\tEST\t25.2\tP\t1.51\tP\n",
      "USGS\t02085070\t2019-11-03 14:30\tEST\t25.2\tP\t1.51\tP\n",
      "USGS\t02085070\t2019-11-03 14:45\tEST\t25.2\tP\t1.51\tP\n",
      "USGS\t02085070\t2019-11-03 15:00\tEST\t25.2\tP\t1.51\tP\n",
      "USGS\t02085070\t2019-11-03 15:15\tEST\t25.2\tP\t1.51\tP\n",
      "USGS\t02085070\t2019-11-03 15:30\tEST\t24.6\tP\t1.50\tP\n",
      "USGS\t02085070\t2019-11-03 15:45\tEST\t24.6\tP\t1.50\tP\n",
      "USGS\t02085070\t2019-11-03 16:00\tEST\t24.6\tP\t1.50\tP\n",
      "USGS\t02085070\t2019-11-03 16:15\tEST\t24.6\tP\t1.50\tP\n",
      "USGS\t02085070\t2019-11-03 16:30\tEST\t24.6\tP\t1.50\tP\n",
      "USGS\t02085070\t2019-11-03 16:45\tEST\t24.1\tP\t1.49\tP\n",
      "USGS\t02085070\t2019-11-03 17:00\tEST\t24.1\tP\t1.49\tP\n",
      "USGS\t02085070\t2019-11-03 17:15\tEST\t24.1\tP\t1.49\tP\n",
      "USGS\t02085070\t2019-11-03 17:30\tEST\t24.1\tP\t1.49\tP\n",
      "USGS\t02085070\t2019-11-03 17:45\tEST\t24.1\tP\t1.49\tP\n",
      "USGS\t02085070\t2019-11-03 18:00\tEST\t23.5\tP\t1.48\tP\n",
      "USGS\t02085070\t2019-11-03 18:15\tEST\t23.5\tP\t1.48\tP\n",
      "USGS\t02085070\t2019-11-03 18:30\tEST\t23.5\tP\t1.48\tP\n",
      "USGS\t02085070\t2019-11-03 18:45\tEST\t23.5\tP\t1.48\tP\n",
      "USGS\t02085070\t2019-11-03 19:00\tEST\t23.5\tP\t1.48\tP\n",
      "USGS\t02085070\t2019-11-03 19:15\tEST\t22.9\tP\t1.47\tP\n",
      "USGS\t02085070\t2019-11-03 19:30\tEST\t22.9\tP\t1.47\tP\n",
      "USGS\t02085070\t2019-11-03 19:45\tEST\t22.9\tP\t1.47\tP\n",
      "USGS\t02085070\t2019-11-03 20:00\tEST\t22.9\tP\t1.47\tP\n",
      "USGS\t02085070\t2019-11-03 20:15\tEST\t22.9\tP\t1.47\tP\n",
      "USGS\t02085070\t2019-11-03 20:30\tEST\t22.4\tP\t1.46\tP\n",
      "USGS\t02085070\t2019-11-03 20:45\tEST\t22.4\tP\t1.46\tP\n",
      "USGS\t02085070\t2019-11-03 21:00\tEST\t22.4\tP\t1.46\tP\n",
      "USGS\t02085070\t2019-11-03 21:15\tEST\t22.4\tP\t1.46\tP\n",
      "USGS\t02085070\t2019-11-03 21:30\tEST\t21.9\tP\t1.45\tP\n",
      "USGS\t02085070\t2019-11-03 21:45\tEST\t21.9\tP\t1.45\tP\n",
      "USGS\t02085070\t2019-11-03 22:00\tEST\t21.9\tP\t1.45\tP\n",
      "USGS\t02085070\t2019-11-03 22:15\tEST\t21.9\tP\t1.45\tP\n",
      "USGS\t02085070\t2019-11-03 22:30\tEST\t21.4\tP\t1.44\tP\n",
      "USGS\t02085070\t2019-11-03 22:45\tEST\t21.4\tP\t1.44\tP\n",
      "USGS\t02085070\t2019-11-03 23:00\tEST\t21.4\tP\t1.44\tP\n",
      "USGS\t02085070\t2019-11-03 23:15\tEST\t20.8\tP\t1.43\tP\n",
      "USGS\t02085070\t2019-11-03 23:30\tEST\t20.8\tP\t1.43\tP\n",
      "USGS\t02085070\t2019-11-03 23:45\tEST\t20.8\tP\t1.43\tP\n",
      "USGS\t02085070\t2019-11-04 00:00\tEST\t20.8\tP\t1.43\tP\n",
      "USGS\t02085070\t2019-11-04 00:15\tEST\t20.4\tP\t1.42\tP\n",
      "USGS\t02085070\t2019-11-04 00:30\tEST\t20.4\tP\t1.42\tP\n",
      "USGS\t02085070\t2019-11-04 00:45\tEST\t19.9\tP\t1.41\tP\n",
      "USGS\t02085070\t2019-11-04 01:00\tEST\t19.9\tP\t1.41\tP\n",
      "USGS\t02085070\t2019-11-04 01:15\tEST\t19.9\tP\t1.41\tP\n",
      "USGS\t02085070\t2019-11-04 01:30\tEST\t19.9\tP\t1.41\tP\n",
      "USGS\t02085070\t2019-11-04 01:45\tEST\t19.4\tP\t1.40\tP\n",
      "USGS\t02085070\t2019-11-04 02:00\tEST\t19.4\tP\t1.40\tP\n",
      "USGS\t02085070\t2019-11-04 02:15\tEST\t18.9\tP\t1.39\tP\n",
      "USGS\t02085070\t2019-11-04 02:30\tEST\t18.9\tP\t1.39\tP\n",
      "USGS\t02085070\t2019-11-04 02:45\tEST\t18.9\tP\t1.39\tP\n",
      "USGS\t02085070\t2019-11-04 03:00\tEST\t18.9\tP\t1.39\tP\n",
      "USGS\t02085070\t2019-11-04 03:15\tEST\t18.5\tP\t1.38\tP\n",
      "USGS\t02085070\t2019-11-04 03:30\tEST\t18.5\tP\t1.38\tP\n",
      "USGS\t02085070\t2019-11-04 03:45\tEST\t18.5\tP\t1.38\tP\n",
      "USGS\t02085070\t2019-11-04 04:00\tEST\t18.5\tP\t1.38\tP\n",
      "USGS\t02085070\t2019-11-04 04:15\tEST\t18.0\tP\t1.37\tP\n",
      "USGS\t02085070\t2019-11-04 04:30\tEST\t18.0\tP\t1.37\tP\n",
      "USGS\t02085070\t2019-11-04 04:45\tEST\t18.0\tP\t1.37\tP\n",
      "USGS\t02085070\t2019-11-04 05:00\tEST\t17.6\tP\t1.36\tP\n",
      "USGS\t02085070\t2019-11-04 05:15\tEST\t17.6\tP\t1.36\tP\n",
      "USGS\t02085070\t2019-11-04 05:30\tEST\t17.6\tP\t1.36\tP\n",
      "USGS\t02085070\t2019-11-04 05:45\tEST\t17.1\tP\t1.35\tP\n",
      "USGS\t02085070\t2019-11-04 06:00\tEST\t17.1\tP\t1.35\tP\n",
      "USGS\t02085070\t2019-11-04 06:15\tEST\t17.1\tP\t1.35\tP\n",
      "USGS\t02085070\t2019-11-04 06:30\tEST\t16.7\tP\t1.34\tP\n",
      "USGS\t02085070\t2019-11-04 06:45\tEST\t16.7\tP\t1.34\tP\n",
      "USGS\t02085070\t2019-11-04 07:00\tEST\t16.7\tP\t1.34\tP\n",
      "USGS\t02085070\t2019-11-04 07:15\tEST\t16.7\tP\t1.34\tP\n",
      "USGS\t02085070\t2019-11-04 07:30\tEST\t16.3\tP\t1.33\tP\n",
      "USGS\t02085070\t2019-11-04 07:45\tEST\t16.3\tP\t1.33\tP\n",
      "USGS\t02085070\t2019-11-04 08:00\tEST\t16.3\tP\t1.33\tP\n",
      "USGS\t02085070\t2019-11-04 08:15\tEST\t15.9\tP\t1.32\tP\n",
      "USGS\t02085070\t2019-11-04 08:30\tEST\t15.9\tP\t1.32\tP\n",
      "USGS\t02085070\t2019-11-04 08:45\tEST\t15.9\tP\t1.32\tP\n",
      "USGS\t02085070\t2019-11-04 09:00\tEST\t15.9\tP\t1.32\tP\n",
      "USGS\t02085070\t2019-11-04 09:15\tEST\t15.5\tP\t1.31\tP\n",
      "USGS\t02085070\t2019-11-04 09:30\tEST\t15.1\tP\t1.30\tP\n",
      "USGS\t02085070\t2019-11-04 09:45\tEST\t15.1\tP\t1.30\tP\n",
      "USGS\t02085070\t2019-11-04 10:00\tEST\t15.1\tP\t1.30\tP\n",
      "USGS\t02085070\t2019-11-04 10:15\tEST\t14.7\tP\t1.29\tP\n",
      "USGS\t02085070\t2019-11-04 10:30\tEST\t14.7\tP\t1.29\tP\n",
      "USGS\t02085070\t2019-11-04 10:45\tEST\t14.7\tP\t1.29\tP\n",
      "USGS\t02085070\t2019-11-04 11:00\tEST\t14.4\tP\t1.28\tP\n",
      "USGS\t02085070\t2019-11-04 11:15\tEST\t14.4\tP\t1.28\tP\n",
      "USGS\t02085070\t2019-11-04 11:30\tEST\t14.4\tP\t1.28\tP\n",
      "\n"
     ]
    }
   ],
   "source": [
    "#What did we get? \n",
    "print(responseText)"
   ]
  },
  {
   "cell_type": "markdown",
   "metadata": {},
   "source": [
    "If you scroll all the way to the last line in the file, you get the most recent reading. We can use some Python to print out what this reading is... "
   ]
  },
  {
   "cell_type": "code",
   "execution_count": 7,
   "metadata": {},
   "outputs": [
    {
     "name": "stdout",
     "output_type": "stream",
     "text": [
      "Site 02085070 recorded a discharge of 14.4 cfs on 2019-11-04 11:30\n"
     ]
    }
   ],
   "source": [
    "#Convert the response text into a list of lines and print the second to last line\n",
    "responseLines = responseText.split('\\n')\n",
    "lastRecord = responseLines[-2].split('\\t')\n",
    "site = lastRecord[1]\n",
    "cfs = lastRecord[4]\n",
    "date = lastRecord[2]\n",
    "print(\"Site {0} recorded a discharge of {1} cfs on {2}\".format(site,cfs,date))"
   ]
  },
  {
   "cell_type": "markdown",
   "metadata": {},
   "source": [
    "► **EXERCISE**: The 3 code blocks below are copies of the ones above. Modify these code blocks to get data for site 02085039 (Eno River At Cole Mill Rd Nr Huckleberry Spring), and print out its most recent *gage height* (in feet):"
   ]
  },
  {
   "cell_type": "code",
   "execution_count": null,
   "metadata": {},
   "outputs": [],
   "source": [
    "#dissect the URL into it's components, for easy comprehension -- and easy modification\n",
    "serviceURL = 'http://waterdata.usgs.gov/nwis/uv'\n",
    "parameters = {'cb_00060':'on',\n",
    "              'cb_00065':'on',\n",
    "              'format':'rdb',\n",
    "              'period':'1',\n",
    "              'site_no':'02085070',\n",
    "              'begin_date':'',\n",
    "              'end_date':''\n",
    "             }"
   ]
  },
  {
   "cell_type": "code",
   "execution_count": null,
   "metadata": {},
   "outputs": [],
   "source": [
    "#Pass the url and its parameters to the server and get its response\n",
    "response = requests.get(serviceURL, parameters)\n",
    "responseText = response.text"
   ]
  },
  {
   "cell_type": "code",
   "execution_count": null,
   "metadata": {},
   "outputs": [],
   "source": [
    "#Convert the response text into a list of lines and print the second to last line\n",
    "responseLines = responseText.split('\\n')\n",
    "lastRecord = responseLines[-2].split('\\t')\n",
    "site = lastRecord[1]\n",
    "cfs = lastRecord[4]\n",
    "date = lastRecord[2]\n",
    "print(\"Site {0} recorded a discharge of {1} cfs on {2}\".format(site,cfs,date))"
   ]
  }
 ],
 "metadata": {
  "kernelspec": {
   "display_name": "Python 3",
   "language": "python",
   "name": "python3"
  },
  "language_info": {
   "codemirror_mode": {
    "name": "ipython",
    "version": 3
   },
   "file_extension": ".py",
   "mimetype": "text/x-python",
   "name": "python",
   "nbconvert_exporter": "python",
   "pygments_lexer": "ipython3",
   "version": "3.6.8"
  }
 },
 "nbformat": 4,
 "nbformat_minor": 2
}
